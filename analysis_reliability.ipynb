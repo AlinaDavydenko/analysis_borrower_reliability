{
 "cells": [
  {
   "cell_type": "markdown",
   "id": "62303aab",
   "metadata": {},
   "source": []
  },
  {
   "cell_type": "markdown",
   "id": "46746c3a",
   "metadata": {},
   "source": [
    "# Исследование надежности заемщиков"
   ]
  },
  {
   "cell_type": "markdown",
   "id": "20f2b158",
   "metadata": {},
   "source": [
    "Импорт pandas и чтение файла "
   ]
  },
  {
   "cell_type": "code",
   "execution_count": 2,
   "id": "2c6ad279",
   "metadata": {},
   "outputs": [
    {
     "name": "stdout",
     "output_type": "stream",
     "text": [
      "   children  days_employed  dob_years education  education_id  \\\n",
      "0         1   -8437.673028         42    высшее             0   \n",
      "1         1   -4024.803754         36   среднее             1   \n",
      "2         0   -5623.422610         33   Среднее             1   \n",
      "3         3   -4124.747207         32   среднее             1   \n",
      "4         0  340266.072047         53   среднее             1   \n",
      "\n",
      "      family_status  family_status_id gender income_type  debt   total_income  \\\n",
      "0   женат / замужем                 0      F   сотрудник     0  253875.639453   \n",
      "1   женат / замужем                 0      F   сотрудник     0  112080.014102   \n",
      "2   женат / замужем                 0      M   сотрудник     0  145885.952297   \n",
      "3   женат / замужем                 0      M   сотрудник     0  267628.550329   \n",
      "4  гражданский брак                 1      F   пенсионер     0  158616.077870   \n",
      "\n",
      "                      purpose  \n",
      "0               покупка жилья  \n",
      "1     приобретение автомобиля  \n",
      "2               покупка жилья  \n",
      "3  дополнительное образование  \n",
      "4             сыграть свадьбу  \n"
     ]
    }
   ],
   "source": [
    "import pandas as pd\n",
    "\n",
    "data = pd.read_csv('/Users/alinadavydenko/Desktop/sql_hw/analysis_borrower_reliability/dataset/data.csv')\n",
    "\n",
    "print(data.head())"
   ]
  },
  {
   "cell_type": "code",
   "execution_count": 3,
   "id": "202f1feb",
   "metadata": {},
   "outputs": [
    {
     "name": "stdout",
     "output_type": "stream",
     "text": [
      "<class 'pandas.core.frame.DataFrame'>\n",
      "RangeIndex: 21525 entries, 0 to 21524\n",
      "Data columns (total 12 columns):\n",
      " #   Column            Non-Null Count  Dtype  \n",
      "---  ------            --------------  -----  \n",
      " 0   children          21525 non-null  int64  \n",
      " 1   days_employed     19351 non-null  float64\n",
      " 2   dob_years         21525 non-null  int64  \n",
      " 3   education         21525 non-null  object \n",
      " 4   education_id      21525 non-null  int64  \n",
      " 5   family_status     21525 non-null  object \n",
      " 6   family_status_id  21525 non-null  int64  \n",
      " 7   gender            21525 non-null  object \n",
      " 8   income_type       21525 non-null  object \n",
      " 9   debt              21525 non-null  int64  \n",
      " 10  total_income      19351 non-null  float64\n",
      " 11  purpose           21525 non-null  object \n",
      "dtypes: float64(2), int64(5), object(5)\n",
      "memory usage: 2.0+ MB\n",
      "None\n"
     ]
    }
   ],
   "source": [
    "print(data.info())"
   ]
  },
  {
   "cell_type": "markdown",
   "id": "383680e6",
   "metadata": {},
   "source": [
    "# Предобработка данных"
   ]
  },
  {
   "cell_type": "markdown",
   "id": "69bcf1a1",
   "metadata": {},
   "source": [
    "Удаление пропусков \n",
    "Количество пропущенных значений для каждого столбца"
   ]
  },
  {
   "cell_type": "code",
   "execution_count": 4,
   "id": "3ebb6b83",
   "metadata": {},
   "outputs": [
    {
     "name": "stdout",
     "output_type": "stream",
     "text": [
      "children               0\n",
      "days_employed       2174\n",
      "dob_years              0\n",
      "education              0\n",
      "education_id           0\n",
      "family_status          0\n",
      "family_status_id       0\n",
      "gender                 0\n",
      "income_type            0\n",
      "debt                   0\n",
      "total_income        2174\n",
      "purpose                0\n",
      "dtype: int64\n"
     ]
    }
   ],
   "source": [
    "count_na = data.isnull().sum()  \n",
    "print(count_na)"
   ]
  },
  {
   "cell_type": "markdown",
   "id": "d56af6a2",
   "metadata": {},
   "source": [
    "На сумму дохода сильнее всего влияет тип занятости, поэтому заполню пропуски в столбце days_employed медианным значением по каждому типу из столбца income_type"
   ]
  },
  {
   "cell_type": "code",
   "execution_count": 5,
   "id": "9f3abc28",
   "metadata": {},
   "outputs": [
    {
     "name": "stdout",
     "output_type": "stream",
     "text": [
      "0        142594.396847\n",
      "1        142594.396847\n",
      "2        142594.396847\n",
      "3        142594.396847\n",
      "4        118514.486412\n",
      "             ...      \n",
      "21520    172357.950966\n",
      "21521    118514.486412\n",
      "21522    142594.396847\n",
      "21523    142594.396847\n",
      "21524    142594.396847\n",
      "Name: income_type, Length: 21525, dtype: float64\n"
     ]
    }
   ],
   "source": [
    "# Находим медианы\n",
    "median_incomes = data.groupby('income_type')['total_income'].median()\n",
    "\n",
    "# Создаем Series с медианами для каждой строки\n",
    "medians_series = data['income_type'].map(median_incomes)\n",
    "\n",
    "# Заполняем пропуски\n",
    "data['total_income'] = data['total_income'].fillna(medians_series)\n",
    "\n",
    "print(medians_series)"
   ]
  },
  {
   "cell_type": "markdown",
   "id": "feb39a2c",
   "metadata": {},
   "source": [
    "# Обработка аномальных значений "
   ]
  },
  {
   "cell_type": "code",
   "execution_count": 6,
   "id": "6e78d549",
   "metadata": {},
   "outputs": [],
   "source": [
    "data['days_employed'] = data['days_employed'].abs()"
   ]
  },
  {
   "cell_type": "markdown",
   "id": "9e7ab39b",
   "metadata": {},
   "source": [
    "Для каждого типа занятости выведу медианное значение трудового стажа days_employed в днях"
   ]
  },
  {
   "cell_type": "code",
   "execution_count": 7,
   "id": "47ee393a",
   "metadata": {},
   "outputs": [
    {
     "name": "stdout",
     "output_type": "stream",
     "text": [
      "income_type\n",
      "безработный        366413.652744\n",
      "в декрете            3296.759962\n",
      "госслужащий          2689.368353\n",
      "компаньон            1547.382223\n",
      "пенсионер          365213.306266\n",
      "предприниматель       520.848083\n",
      "сотрудник            1574.202821\n",
      "студент               578.751554\n",
      "Name: days_employed, dtype: float64\n"
     ]
    }
   ],
   "source": [
    "median_days_employed = data.groupby('income_type')['days_employed'].median()\n",
    "print(median_days_employed)"
   ]
  },
  {
   "cell_type": "markdown",
   "id": "6d97ced1",
   "metadata": {},
   "source": [
    "Уникальные значения children"
   ]
  },
  {
   "cell_type": "code",
   "execution_count": 8,
   "id": "f81b16cd",
   "metadata": {},
   "outputs": [
    {
     "name": "stdout",
     "output_type": "stream",
     "text": [
      "[ 1  0  3  2 -1  4 20  5]\n"
     ]
    }
   ],
   "source": [
    "unique_children = data['children'].unique()\n",
    "\n",
    "print(unique_children)"
   ]
  },
  {
   "cell_type": "markdown",
   "id": "c684a5b6",
   "metadata": {},
   "source": [
    "В столбце children есть два аномальных значения. Удалю строки, в которых встречаются такие аномальные значения из датафрейма data"
   ]
  },
  {
   "cell_type": "code",
   "execution_count": 9,
   "id": "1efa14d5",
   "metadata": {},
   "outputs": [
    {
     "name": "stdout",
     "output_type": "stream",
     "text": [
      "[1 0 3 2 4 5]\n"
     ]
    }
   ],
   "source": [
    "data = data.loc[(data['children'] >= 0) & (data['children'] < 10)]\n",
    "\n",
    "print(data['children'].unique())"
   ]
  },
  {
   "cell_type": "markdown",
   "id": "9d4f5374",
   "metadata": {},
   "source": [
    "Заполню пропуски в столбце days_employed медианными значениями по каждому типу занятости income_type"
   ]
  },
  {
   "cell_type": "code",
   "execution_count": 10,
   "id": "00170b7a",
   "metadata": {},
   "outputs": [
    {
     "name": "stdout",
     "output_type": "stream",
     "text": [
      "0\n"
     ]
    }
   ],
   "source": [
    "# находиммедианное среднее \n",
    "type_median = data.groupby('income_type')['days_employed'].median()\n",
    "\n",
    "# Заполняем пропуски\n",
    "data['days_employed'] = data['days_employed'].fillna(data['income_type'].map(type_median))\n",
    "\n",
    "print(data['days_employed'].isnull().sum())"
   ]
  },
  {
   "cell_type": "markdown",
   "id": "25dea2c6",
   "metadata": {},
   "source": [
    "# Изменение типов данных"
   ]
  },
  {
   "cell_type": "markdown",
   "id": "2dde9d60",
   "metadata": {},
   "source": [
    "Замена вещественного тип данных в столбце total_income на целочисленный с помощью метода astype()"
   ]
  },
  {
   "cell_type": "code",
   "execution_count": 11,
   "id": "1098f016",
   "metadata": {},
   "outputs": [],
   "source": [
    "data['total_income'] = data['total_income'].astype('int')"
   ]
  },
  {
   "cell_type": "markdown",
   "id": "cca6d152",
   "metadata": {},
   "source": [
    "# Обработка дубликатов"
   ]
  },
  {
   "cell_type": "markdown",
   "id": "ca3a1794",
   "metadata": {},
   "source": [
    "Обработка неявных дубликатов в столбце education. В этом столбце есть одни и те же значения, но записанные по-разному: с использованием заглавных и строчных букв."
   ]
  },
  {
   "cell_type": "code",
   "execution_count": 12,
   "id": "a59cc055",
   "metadata": {},
   "outputs": [
    {
     "name": "stdout",
     "output_type": "stream",
     "text": [
      "71\n"
     ]
    }
   ],
   "source": [
    "data['education'] = data['education'].str.lower()\n",
    "\n",
    "dubl_data = data.duplicated().sum()\n",
    "print(dubl_data)"
   ]
  },
  {
   "cell_type": "code",
   "execution_count": 13,
   "id": "4562f881",
   "metadata": {},
   "outputs": [],
   "source": [
    "data = data.drop_duplicates()"
   ]
  },
  {
   "cell_type": "markdown",
   "id": "d2f8f824",
   "metadata": {},
   "source": [
    "# Категоризация данных"
   ]
  },
  {
   "cell_type": "markdown",
   "id": "4baedff7",
   "metadata": {},
   "source": [
    "Датафрейм data столбец total_income_category с категориями:\n",
    "\n",
    "0–30000 — 'E';\n",
    "30001–50000 — 'D';\n",
    "50001–200000 — 'C';\n",
    "200001–1000000 — 'B';\n",
    "1000001 и выше — 'A'."
   ]
  },
  {
   "cell_type": "code",
   "execution_count": 14,
   "id": "de8c3aa8",
   "metadata": {},
   "outputs": [
    {
     "name": "stdout",
     "output_type": "stream",
     "text": [
      "total_income_category\n",
      "C    15921\n",
      "B     5014\n",
      "D      349\n",
      "A       25\n",
      "E       22\n",
      "Name: count, dtype: int64\n"
     ]
    }
   ],
   "source": [
    "def categorize_income(row):\n",
    "    if 0 <= row <= 30000:\n",
    "        return 'E'\n",
    "    elif 30001 <= row <= 50000:\n",
    "        return 'D'\n",
    "    elif 50001 <= row <= 200000:\n",
    "        return 'C'\n",
    "    elif 200001 <= row <= 1000000:\n",
    "        return 'B'\n",
    "    else:\n",
    "        return 'A'\n",
    "    \n",
    "data['total_income_category'] = data['total_income'].apply(categorize_income)\n",
    "\n",
    "print(data['total_income_category'].value_counts())"
   ]
  },
  {
   "cell_type": "markdown",
   "id": "635d83dd",
   "metadata": {},
   "source": [
    "Функция, которая на основании данных из столбца purpose сформирует новый столбец purpose_category, в который войдут следующие категории:\n",
    "\n",
    "'операции с автомобилем',\n",
    "'операции с недвижимостью',\n",
    "'проведение свадьбы',\n",
    "'получение образования'.\n"
   ]
  },
  {
   "cell_type": "code",
   "execution_count": 15,
   "id": "272e09e3",
   "metadata": {},
   "outputs": [
    {
     "name": "stdout",
     "output_type": "stream",
     "text": [
      "['покупка жилья' 'приобретение автомобиля' 'дополнительное образование'\n",
      " 'сыграть свадьбу' 'операции с жильем' 'образование'\n",
      " 'на проведение свадьбы' 'покупка жилья для семьи' 'покупка недвижимости'\n",
      " 'покупка коммерческой недвижимости' 'покупка жилой недвижимости'\n",
      " 'строительство собственной недвижимости' 'недвижимость'\n",
      " 'строительство недвижимости' 'на покупку подержанного автомобиля'\n",
      " 'на покупку своего автомобиля' 'операции с коммерческой недвижимостью'\n",
      " 'строительство жилой недвижимости' 'жилье'\n",
      " 'операции со своей недвижимостью' 'автомобили' 'заняться образованием'\n",
      " 'сделка с подержанным автомобилем' 'получение образования' 'автомобиль'\n",
      " 'свадьба' 'получение дополнительного образования' 'покупка своего жилья'\n",
      " 'операции с недвижимостью' 'получение высшего образования'\n",
      " 'свой автомобиль' 'сделка с автомобилем' 'профильное образование'\n",
      " 'высшее образование' 'покупка жилья для сдачи' 'на покупку автомобиля'\n",
      " 'ремонт жилью' 'заняться высшим образованием']\n"
     ]
    }
   ],
   "source": [
    "print(data['purpose'].unique())"
   ]
  },
  {
   "cell_type": "code",
   "execution_count": 17,
   "id": "76b7bbbf",
   "metadata": {},
   "outputs": [
    {
     "name": "stdout",
     "output_type": "stream",
     "text": [
      "purpose_category\n",
      "операции с недвижимостью    10751\n",
      "операции с автомобилем       4279\n",
      "получение образования        3988\n",
      "проведение свадьбы           2313\n",
      "Name: count, dtype: int64\n"
     ]
    }
   ],
   "source": [
    "def categorize_purpose(purpose):\n",
    "    purpose_lower = purpose.lower()\n",
    "    if 'автомобил' in purpose_lower:\n",
    "        return 'операции с автомобилем'\n",
    "    elif 'жил' in purpose_lower or 'недвижим' in purpose_lower or 'строительств' in purpose_lower:\n",
    "        return 'операции с недвижимостью'\n",
    "    elif 'свадьб' in purpose_lower:\n",
    "        return 'проведение свадьбы'\n",
    "    elif 'образован' in purpose_lower:\n",
    "        return 'получение образования'\n",
    "    else:\n",
    "        return 'другое'\n",
    "    \n",
    "data['purpose_category'] = data['purpose'].apply(categorize_purpose)\n",
    "\n",
    "print(data['purpose_category'].value_counts())"
   ]
  }
 ],
 "metadata": {
  "kernelspec": {
   "display_name": "Python 3",
   "language": "python",
   "name": "python3"
  },
  "language_info": {
   "codemirror_mode": {
    "name": "ipython",
    "version": 3
   },
   "file_extension": ".py",
   "mimetype": "text/x-python",
   "name": "python",
   "nbconvert_exporter": "python",
   "pygments_lexer": "ipython3",
   "version": "3.12.3"
  }
 },
 "nbformat": 4,
 "nbformat_minor": 5
}
